{
 "nbformat": 4,
 "nbformat_minor": 2,
 "metadata": {
  "language_info": {
   "name": "python",
   "codemirror_mode": {
    "name": "ipython",
    "version": 3
   },
   "version": "3.7.6-final"
  },
  "orig_nbformat": 2,
  "file_extension": ".py",
  "mimetype": "text/x-python",
  "name": "python",
  "npconvert_exporter": "python",
  "pygments_lexer": "ipython3",
  "version": 3,
  "kernelspec": {
   "name": "python37664bitd419920fc98b48bf9467d309ef63cbe3",
   "display_name": "Python 3.7.6 64-bit"
  }
 },
 "cells": [
  {
   "cell_type": "code",
   "execution_count": 70,
   "metadata": {},
   "outputs": [],
   "source": [
    "from numpy import array, sin, cos, sqrt, cross, dot, pi, linspace\n",
    "import pyrr.matrix33 as m3\n",
    "import pyrr.matrix44 as m4\n",
    "r = 2.0\n",
    "l = 3.0\n",
    "h = 1.5\n",
    "\n",
    "\n",
    "tl = 1.1\n",
    "tr = 1.0\n",
    "\n",
    "\n",
    "\n",
    "Dgtl = array((-h, sqrt(r**2 - h**2)-r+l/2))\n",
    "Dgtr = array((h, sqrt(r**2 - h**2)-r+l/2))\n",
    "Dgbl = array((-h, -sqrt(r**2 - h**2)+r-l/2))\n",
    "Dgbr = array((h, -sqrt(r**2 - h**2)+r-l/2))\n"
   ]
  },
  {
   "cell_type": "code",
   "execution_count": 51,
   "metadata": {},
   "outputs": [
    {
     "name": "stdout",
     "output_type": "stream",
     "text": "-0.00014370862708235066\n"
    }
   ],
   "source": [
    "# ring 0\n",
    "t0 = 0.10798839622442215/2\n",
    "\n",
    "Tbl0 = tl*array((-sin(t0),-cos(t0)))\n",
    "Tbr0 = tr*array((-sin(t0),-cos(t0)))\n",
    "R0 = -(Tbl0 + Tbr0)\n",
    "Dcb0 = array((-r*sin(t0), -r*cos(t0)+r-l/2))\n",
    "\n",
    "\n",
    "m0 = cross(Dcb0, R0) + cross(Dgbl, Tbl0) + cross(Dgbr, Tbr0)\n",
    "print(m0)"
   ]
  },
  {
   "cell_type": "code",
   "execution_count": 56,
   "metadata": {},
   "outputs": [
    {
     "data": {
      "text/plain": "0.2859870423867714"
     },
     "execution_count": 56,
     "metadata": {},
     "output_type": "execute_result"
    }
   ],
   "source": [
    "T1tl = tl*array((-sin(t0),cos(t0)))\n",
    "T1tr = tr*array((-sin(t0),cos(t0)))\n",
    "R1t = dot(m3.create_from_axis_rotation((1.0,0,0), 2*t0), -array((0, R0[0],R0[1])))[1:]\n",
    "D1ct = array((-r*sin(t0), r*cos(t0)+l/2-r))\n",
    "\n",
    "t1 = 0.848062078981481/2\n",
    "# x = linspace(-pi/5, pi/5)\n",
    "# y = []\n",
    "# for t1 in x:\n",
    "T1bl = tl*array((-sin(t1),-cos(t1)))\n",
    "T1br = tr*array((-sin(t1),-cos(t1)))\n",
    "R1 = -(T1tl + T1tr + R1t + T1bl +T1br)\n",
    "D1cb = array((-r*sin(t1), -(r*cos(t1)+l/2-r)))\n",
    "m1 = cross(D1ct, R1t) \n",
    "# cross(D1cb,R1) + cross(Dgbl, T1bl) + cross(Dgbr, T1br) + cross(Dgtl, T1tr)  + cross(Dgtr, T1tr) + \n",
    "    # y.append(m1)\n",
    "cross(Dgtl, T1tl)+ cross(Dgtr, T1tr)+cross(D1ct, R1t) + cross(Dgbl, T1bl) + cross(Dgbr, T1br) + cross(D1cb,R1)"
   ]
  },
  {
   "cell_type": "code",
   "execution_count": 93,
   "metadata": {},
   "outputs": [
    {
     "name": "stdout",
     "output_type": "stream",
     "text": "[[1 0 0 0]\n [0 1 0 0]\n [0 0 1 0]\n [2 1 3 1]]\n"
    },
    {
     "data": {
      "text/plain": "dtype('float32')"
     },
     "execution_count": 93,
     "metadata": {},
     "output_type": "execute_result"
    }
   ],
   "source": [
    "import pyrr\n",
    "theta = 0.054180\n",
    "a = array((0,0.169, 2.098), )\n",
    "\n",
    "\n",
    "m = m3.create_from_axis_rotation(array((1.0,0,0),order=\"F\"), 0.054180)\n",
    "mt = m4.create_from_translation((2,1,3))\n",
    "print(mt)\n",
    "# print(dot(mt.transpose(),a))\n",
    "# m.transpose().flags\n",
    "# a.flags\n",
    "# m4.multiply(m,a.reshape((3,1)))\n",
    "\n",
    "# a.reshape((3,1))\n",
    "# m = m3.create_from_axis_rotation((1.0,0,0), 0.054180)\n",
    "\n",
    "# v = array(((cos(theta), -sin(theta)), (sin(theta), cos(theta))))\n",
    "# (m,v)\n",
    "import numpy as np\n",
    "a = array((1,2,3),dtype=np.float32)\n",
    "(a*1.0).dtype"
   ]
  },
  {
   "cell_type": "code",
   "execution_count": null,
   "metadata": {},
   "outputs": [],
   "source": []
  }
 ]
}